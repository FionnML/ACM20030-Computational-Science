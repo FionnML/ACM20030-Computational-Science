{
 "cells": [
  {
   "cell_type": "markdown",
   "id": "2669da23-0156-4dc9-bfd9-dc8e449dc5e0",
   "metadata": {},
   "source": [
    "## Question 0"
   ]
  },
  {
   "cell_type": "code",
   "execution_count": 1,
   "id": "04d2ad81-51f9-4699-8e5b-5e363b974d98",
   "metadata": {},
   "outputs": [],
   "source": [
    "# importing numpy and matplotlib libraries\n",
    "import numpy as np\n",
    "import matplotlib.pyplot as plt"
   ]
  },
  {
   "cell_type": "markdown",
   "id": "4b2e9d48-a3c5-479c-943b-bfb6ad1907ce",
   "metadata": {},
   "source": [
    "## Question 1"
   ]
  },
  {
   "cell_type": "code",
   "execution_count": 102,
   "id": "fcc7b343-c81e-459f-8e1d-ae71f3bc502c",
   "metadata": {},
   "outputs": [],
   "source": [
    "# part (a)\n",
    "# Function to compute magnitude of a vector and return it\n",
    "def VectorLength(x,y):\n",
    "    # compute vector norm using the definition from pythagoras in R2\n",
    "    result = np.sqrt((x**2)+(y**2))\n",
    "    print(\"Magnitude(\",x,\",\",y,\") = \",result,sep=\"\")"
   ]
  },
  {
   "cell_type": "code",
   "execution_count": 93,
   "id": "11fc35e3-dcf4-41c4-b60a-3f24e27523bf",
   "metadata": {},
   "outputs": [
    {
     "name": "stdout",
     "output_type": "stream",
     "text": [
      "Magnitude(5,6) = 7.810249675906654\n",
      "Magnitude(-1,5) = 5.0990195135927845\n"
     ]
    }
   ],
   "source": [
    "# part (b)\n",
    "VectorLength(5,6)\n",
    "VectorLength(-1,5)"
   ]
  },
  {
   "cell_type": "code",
   "execution_count": 100,
   "id": "28253231-3f05-4d88-8eb3-f50e380def59",
   "metadata": {},
   "outputs": [
    {
     "name": "stdout",
     "output_type": "stream",
     "text": [
      "Sin(1) = 0.841\n"
     ]
    }
   ],
   "source": [
    "# part (c) (added the %.3f in the quotations,\n",
    "# and changed the comma to a percentage symbol)\n",
    "print(\"Sin(1) = %.3f\" % np.sin(1))"
   ]
  },
  {
   "cell_type": "markdown",
   "id": "9601e3e0-af00-4b58-a006-a9a0de34e1c5",
   "metadata": {},
   "source": [
    "## Question 2"
   ]
  },
  {
   "cell_type": "code",
   "execution_count": 110,
   "id": "0996a9b9-7f46-4484-838f-9ca2352c6106",
   "metadata": {},
   "outputs": [],
   "source": [
    "# Function to check if a number is prime\n",
    "def IsPrime(n):\n",
    "    i = 2\n",
    "    while i < np.sqrt(n):\n",
    "        # For each i check if it divides n\n",
    "        if(n % i == 0):\n",
    "            return 0\n",
    "        i += 1\n",
    "    # If no divisors found, the number is prime\n",
    "    return 1\n"
   ]
  },
  {
   "cell_type": "code",
   "execution_count": 164,
   "id": "a27315e5-1e48-404f-a311-aafdc0dff66a",
   "metadata": {},
   "outputs": [
    {
     "name": "stdout",
     "output_type": "stream",
     "text": [
      "1 is yes, 0 is no\n",
      "Is 1 Prime? 1\n",
      "Is 2 Prime? 1\n",
      "Is 3 Prime? 1\n",
      "Is 4 Prime? 1\n",
      "Is 5 Prime? 1\n",
      "Is 6 Prime? 0\n",
      "Is 7 Prime? 1\n",
      "Is 8 Prime? 0\n",
      "Is 9 Prime? 1\n",
      "Is 10 Prime? 0\n"
     ]
    }
   ],
   "source": [
    "# part (a)\n",
    "print(\"1 is yes, 0 is no\")\n",
    "for i in range(1,11,1):\n",
    "    print(\"Is\",i,\"Prime?\",IsPrime(i))"
   ]
  },
  {
   "cell_type": "markdown",
   "id": "30cd8c4a-1650-4371-8d18-54c6220c1903",
   "metadata": {},
   "source": [
    "##### Clearly, the function does not work correctly"
   ]
  },
  {
   "cell_type": "code",
   "execution_count": 173,
   "id": "5d642976-505e-4ab6-a709-546b283f836a",
   "metadata": {},
   "outputs": [],
   "source": [
    "# part (b)\n",
    "# Function to check if a number is prime\n",
    "def IsPrime(n):\n",
    "    if(n == 1):\n",
    "        return 0\n",
    "    else:\n",
    "        i = 2\n",
    "        while i < np.sqrt(n):\n",
    "            # For each i check if it divides n\n",
    "            if(n % i == 0):\n",
    "                return 0\n",
    "            i += 1\n",
    "    # If no divisors found, the number is prime\n",
    "    return 1"
   ]
  },
  {
   "cell_type": "code",
   "execution_count": 175,
   "id": "30edad84-6cc2-428d-ad23-bf6fd4ff4ea1",
   "metadata": {},
   "outputs": [
    {
     "data": {
      "text/plain": [
       "0"
      ]
     },
     "execution_count": 175,
     "metadata": {},
     "output_type": "execute_result"
    }
   ],
   "source": [
    "# Testing the function in the case n = 1\n",
    "IsPrime(1)"
   ]
  },
  {
   "cell_type": "markdown",
   "id": "e96ebbec-f122-4df1-b7c5-61848de50329",
   "metadata": {},
   "source": [
    "##### Works!"
   ]
  },
  {
   "cell_type": "code",
   "execution_count": 224,
   "id": "759d446d-bd44-46b2-aae5-46d2ed5eca44",
   "metadata": {},
   "outputs": [],
   "source": [
    "# part (c)\n",
    "# Function to check if a number is prime\n",
    "def IsPrime(n):\n",
    "    if(n == 1):\n",
    "        return 0\n",
    "    else:\n",
    "        i = 2\n",
    "        while i <= np.sqrt(n):\n",
    "            # For each i check if it divides n\n",
    "            if(n % i == 0):\n",
    "                return 0\n",
    "            i += 1\n",
    "    # If no divisors found, the number is prime\n",
    "    return 1\n",
    "\n",
    "# Simple fix: was not accounting for divisors equal to the square root. Changed < to <="
   ]
  },
  {
   "cell_type": "code",
   "execution_count": null,
   "id": "88d10c87-537a-4e0b-b3b3-ed689cf7f143",
   "metadata": {},
   "outputs": [],
   "source": []
  },
  {
   "cell_type": "code",
   "execution_count": null,
   "id": "24d32a10-6a13-4d92-9a4a-947a58d30110",
   "metadata": {},
   "outputs": [],
   "source": []
  }
 ],
 "metadata": {
  "kernelspec": {
   "display_name": "Python 3 (ipykernel)",
   "language": "python",
   "name": "python3"
  },
  "language_info": {
   "codemirror_mode": {
    "name": "ipython",
    "version": 3
   },
   "file_extension": ".py",
   "mimetype": "text/x-python",
   "name": "python",
   "nbconvert_exporter": "python",
   "pygments_lexer": "ipython3",
   "version": "3.12.4"
  }
 },
 "nbformat": 4,
 "nbformat_minor": 5
}
