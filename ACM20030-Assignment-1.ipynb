{
 "cells": [
  {
   "cell_type": "markdown",
   "id": "2669da23-0156-4dc9-bfd9-dc8e449dc5e0",
   "metadata": {},
   "source": [
    "## Question 0"
   ]
  },
  {
   "cell_type": "code",
   "execution_count": 1,
   "id": "04d2ad81-51f9-4699-8e5b-5e363b974d98",
   "metadata": {},
   "outputs": [],
   "source": [
    "# importing numpy and matplotlib libraries\n",
    "import numpy as np\n",
    "import matplotlib.pyplot as plt"
   ]
  },
  {
   "cell_type": "markdown",
   "id": "4b2e9d48-a3c5-479c-943b-bfb6ad1907ce",
   "metadata": {},
   "source": [
    "## Question 1"
   ]
  },
  {
   "cell_type": "code",
   "execution_count": 89,
   "id": "fcc7b343-c81e-459f-8e1d-ae71f3bc502c",
   "metadata": {},
   "outputs": [],
   "source": [
    "# part (a)\n",
    "def VectorLength(x,y):\n",
    "    # compute vector norm using the definition from pythagoras in R2\n",
    "    result = np.sqrt((x**2)+(y**2))\n",
    "    print(\"Magnitude(\",x,\",\",y,\") = \",result,sep=\"\")"
   ]
  },
  {
   "cell_type": "code",
   "execution_count": 93,
   "id": "11fc35e3-dcf4-41c4-b60a-3f24e27523bf",
   "metadata": {},
   "outputs": [
    {
     "name": "stdout",
     "output_type": "stream",
     "text": [
      "Magnitude(5,6) = 7.810249675906654\n",
      "Magnitude(-1,5) = 5.0990195135927845\n"
     ]
    }
   ],
   "source": [
    "# part (b)\n",
    "VectorLength(5,6)\n",
    "VectorLength(-1,5)"
   ]
  },
  {
   "cell_type": "code",
   "execution_count": 97,
   "id": "28253231-3f05-4d88-8eb3-f50e380def59",
   "metadata": {},
   "outputs": [
    {
     "name": "stdout",
     "output_type": "stream",
     "text": [
      "Sin(1) = 0.841\n"
     ]
    }
   ],
   "source": [
    "# part (c)\n",
    "print(\"Sin(1) = %.3f\" % np.sin(1))"
   ]
  },
  {
   "cell_type": "code",
   "execution_count": null,
   "id": "b938c8f5-bb17-4b72-97a9-14854eded186",
   "metadata": {},
   "outputs": [],
   "source": []
  }
 ],
 "metadata": {
  "kernelspec": {
   "display_name": "Python 3 (ipykernel)",
   "language": "python",
   "name": "python3"
  },
  "language_info": {
   "codemirror_mode": {
    "name": "ipython",
    "version": 3
   },
   "file_extension": ".py",
   "mimetype": "text/x-python",
   "name": "python",
   "nbconvert_exporter": "python",
   "pygments_lexer": "ipython3",
   "version": "3.12.4"
  }
 },
 "nbformat": 4,
 "nbformat_minor": 5
}
